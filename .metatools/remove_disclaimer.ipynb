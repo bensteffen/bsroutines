{
 "cells": [
  {
   "cell_type": "code",
   "execution_count": 1,
   "metadata": {},
   "outputs": [],
   "source": [
    "import re"
   ]
  },
  {
   "cell_type": "code",
   "execution_count": null,
   "metadata": {},
   "outputs": [],
   "source": [
    "DISCLAIMER = \"\"\"\n",
    "    %\n",
    "    % Disclaimer of Warranty (from http://www.gnu.org/licenses/):\n",
    "    %  THERE IS NO WARRANTY FOR THE PROGRAM, TO THE EXTENT PERMITTED BY APPLICABLE LAW.\n",
    "    %  EXCEPT WHEN OTHERWISE STATED IN WRITING THE COPYRIGHT HOLDERS AND/OR OTHER PARTIES\n",
    "    %  PROVIDE THE PROGRAM \"AS IS\" WITHOUT WARRANTY OF ANY KIND, EITHER EXPRESSED OR IMPLIED,\n",
    "    %  INCLUDING, BUT NOT LIMITED TO, THE IMPLIED WARRANTIES OF MERCHANTABILITY AND FITNESS FOR\n",
    "    %  A PARTICULAR PURPOSE. THE ENTIRE RISK AS TO THE QUALITY AND PERFORMANCE OF THE PROGRAM\n",
    "    %  IS WITH YOU. SHOULD THE PROGRAM PROVE DEFECTIVE, YOU ASSUME THE COST OF ALL NECESSARY\n",
    "    %  SERVICING, REPAIR OR CORRECTION.\n",
    "    %\n",
    "\"\"\""
   ]
  },
  {
   "cell_type": "code",
   "execution_count": 137,
   "metadata": {},
   "outputs": [
    {
     "name": "stdout",
     "output_type": "stream",
     "text": [
      "2\n",
      "function assigned = anatomicalAssignment(x,lable_data)\n",
      "\n",
      "x =  nearestvoxel(x,lable_data.xyz);\n",
      "sph = createVoxelSphere(x,10);\n",
      "\n",
      "overlapping = findVoxel22(lable_data.xyz,sph);\n",
      "overlapping(overlapping == 0) = [];\n",
      "vx_number = length(overlapping);\n",
      "\n",
      "labels_found = unique(lable_data.area(overlapping));\n",
      "\n",
      "for j = 1:length(labels_found)\n",
      "    assigned.label{j} = lable_data.labels{labels_found(j)};\n",
      "    assigned.prob(j) = sum(lable_data.area(overlapping) == labels_found(j))/vx_number;\n",
      "end\n",
      "[assigned.prob,i_sort] = sort(assigned.prob,'descend');\n",
      "assigned.label = assigned.label(i_sort);\n"
     ]
    }
   ],
   "source": [
    "with open(\"example.m\", \"r\") as f:\n",
    "    content = f.read()\n",
    "    \n",
    "    # res = re.search(r\"(?<=\\s+\\%\\s+% Disclaimer of Warranty)(.*)(?=Pack)\", content)\n",
    "    # print(content[res.pos:res.endpos])\n",
    "\n",
    "    lines = content.split(\"\\n\")\n",
    "\n",
    "    start = -1\n",
    "    found_attribute = False\n",
    "    end = -1\n",
    "    for i, line in enumerate(lines):\n",
    "        res = re.search(r\"^\\s+\\%\\s+Disclaimer of Warranty\", line)\n",
    "        if res:\n",
    "            start = i\n",
    "            if i > 0 and re.search(r\"^\\s+\\%\\s+\", line):\n",
    "                start = i - 1\n",
    "            print(start)\n",
    "        if start > -1:\n",
    "            res = re.search(r\"^\\s+\\%\\s+\\w+:\", line)\n",
    "            if res:\n",
    "                found_attribute = True\n",
    "            if not res and found_attribute:\n",
    "                end = i - 1\n",
    "                break\n",
    "\n",
    "    if start > -1 and end > -1:\n",
    "        cleaned = []\n",
    "        for i, line in enumerate(lines):\n",
    "            if i >= start and i <= end:\n",
    "                pass\n",
    "            else:\n",
    "                cleaned.append(line)\n",
    "        cleaned_str = \"\\n\".join(cleaned)\n",
    "\n",
    "        print(cleaned_str)\n",
    "\n"
   ]
  }
 ],
 "metadata": {
  "kernelspec": {
   "display_name": "capex-or-opex",
   "language": "python",
   "name": "capex-or-opex"
  },
  "orig_nbformat": 4,
  "vscode": {
   "interpreter": {
    "hash": "ead1b95f633dc9c51826328e1846203f51a198c6fb5f2884a80417ba131d4e82"
   }
  }
 },
 "nbformat": 4,
 "nbformat_minor": 2
}
